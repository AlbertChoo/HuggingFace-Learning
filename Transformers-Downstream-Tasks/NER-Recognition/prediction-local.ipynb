{
 "cells": [
  {
   "cell_type": "code",
   "execution_count": 2,
   "metadata": {},
   "outputs": [
    {
     "name": "stderr",
     "output_type": "stream",
     "text": [
      "Device set to use cpu\n"
     ]
    }
   ],
   "source": [
    "from transformers import pipeline\n",
    "\n",
    "ckpt = r\"C:\\Users\\ILLEGEAR\\Downloads\\ner_distilbert\\ner_distilbert\"\n",
    "pipe = pipeline('token-classification',\n",
    "                model=ckpt,\n",
    "                aggregation_strategy='simple')"
   ]
  },
  {
   "cell_type": "code",
   "execution_count": 10,
   "metadata": {},
   "outputs": [
    {
     "data": {
      "text/plain": [
       "[{'entity_group': 'Restaurant_Name',\n",
       "  'score': 0.8874601,\n",
       "  'word': 'david john',\n",
       "  'start': 0,\n",
       "  'end': 10},\n",
       " {'entity_group': 'Rating',\n",
       "  'score': 0.97014016,\n",
       "  'word': 'best',\n",
       "  'start': 43,\n",
       "  'end': 47},\n",
       " {'entity_group': 'Dish',\n",
       "  'score': 0.9337121,\n",
       "  'word': 'shushi',\n",
       "  'start': 48,\n",
       "  'end': 54},\n",
       " {'entity_group': 'Location',\n",
       "  'score': 0.81118315,\n",
       "  'word': 'new york',\n",
       "  'start': 58,\n",
       "  'end': 66}]"
      ]
     },
     "execution_count": 10,
     "metadata": {},
     "output_type": "execute_result"
    }
   ],
   "source": [
    "pipe('David John, the restaurant that serves the best shushi in new york?')"
   ]
  },
  {
   "cell_type": "code",
   "execution_count": null,
   "metadata": {},
   "outputs": [],
   "source": []
  }
 ],
 "metadata": {
  "kernelspec": {
   "display_name": "twitter-multiclass-sentiment",
   "language": "python",
   "name": "python3"
  },
  "language_info": {
   "codemirror_mode": {
    "name": "ipython",
    "version": 3
   },
   "file_extension": ".py",
   "mimetype": "text/x-python",
   "name": "python",
   "nbconvert_exporter": "python",
   "pygments_lexer": "ipython3",
   "version": "3.10.16"
  }
 },
 "nbformat": 4,
 "nbformat_minor": 2
}
